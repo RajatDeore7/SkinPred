{
 "cells": [
  {
   "cell_type": "code",
   "execution_count": 1,
   "metadata": {
    "id": "z4aJsLedYRDp"
   },
   "outputs": [],
   "source": [
    "import numpy as np \n",
    "import pandas as pd \n",
    "import os\n",
    "from glob import glob\n",
    "import matplotlib.pyplot as plt\n",
    "from tensorflow import keras\n",
    "\n",
    "from tensorflow.keras.layers import Input, Lambda, Dense, Flatten\n",
    "from tensorflow.keras.models import Model\n",
    "from tensorflow.keras.preprocessing import image\n",
    "from tensorflow.keras.preprocessing.image import ImageDataGenerator\n",
    "from tensorflow.keras.models import Sequential\n",
    "\n",
    "from tensorflow.keras.applications.vgg19 import VGG19"
   ]
  },
  {
   "cell_type": "code",
   "execution_count": 2,
   "metadata": {
    "id": "dVRm5skbYRDv"
   },
   "outputs": [],
   "source": [
    "path_1 = \"F:/SkinDisease/newdata/Dermnet/Train\"\n",
    "path_2 = \"F:/SkinDisease/newdata/Dermnet/Valid\"\n",
    "train_path = os.listdir(path_1)\n",
    "test_path = os.listdir(path_2)"
   ]
  },
  {
   "cell_type": "code",
   "execution_count": 3,
   "metadata": {
    "colab": {
     "base_uri": "https://localhost:8080/"
    },
    "executionInfo": {
     "elapsed": 600,
     "status": "ok",
     "timestamp": 1676357714048,
     "user": {
      "displayName": "Machine Learning",
      "userId": "15025330983824979494"
     },
     "user_tz": -330
    },
    "id": "EEDRqxYcYRDw",
    "outputId": "81d7c181-05a2-4d9d-dddd-66cd3f03fac4"
   },
   "outputs": [
    {
     "data": {
      "text/plain": [
       "10"
      ]
     },
     "execution_count": 3,
     "metadata": {},
     "output_type": "execute_result"
    }
   ],
   "source": [
    "len(train_path)"
   ]
  },
  {
   "cell_type": "code",
   "execution_count": 4,
   "metadata": {
    "id": "m1de3EKZYRDx"
   },
   "outputs": [],
   "source": [
    "SIZE = [224, 224]"
   ]
  },
  {
   "cell_type": "code",
   "execution_count": 5,
   "metadata": {
    "colab": {
     "base_uri": "https://localhost:8080/"
    },
    "executionInfo": {
     "elapsed": 3737,
     "status": "ok",
     "timestamp": 1676357721560,
     "user": {
      "displayName": "Machine Learning",
      "userId": "15025330983824979494"
     },
     "user_tz": -330
    },
    "id": "hdSwnUR9YRDx",
    "outputId": "52882e72-7b8f-47bd-f8c3-77277a13a5b2"
   },
   "outputs": [],
   "source": [
    "vgg19 = VGG19(input_shape=SIZE + [3], weights=\"imagenet\", include_top=False)"
   ]
  },
  {
   "cell_type": "code",
   "execution_count": 6,
   "metadata": {
    "id": "8CxYriyiYRDy"
   },
   "outputs": [],
   "source": [
    "for layer in vgg19.layers:\n",
    "    layer.trainable = False"
   ]
  },
  {
   "cell_type": "code",
   "execution_count": 7,
   "metadata": {
    "id": "aKQMbFBwYRDy"
   },
   "outputs": [],
   "source": [
    "x = Flatten()(vgg19.output)"
   ]
  },
  {
   "cell_type": "code",
   "execution_count": 8,
   "metadata": {
    "id": "eT6dDza7YRDz"
   },
   "outputs": [],
   "source": [
    "prediction = Dense(len(train_path), activation=\"softmax\")(x)\n",
    "\n",
    "model = Model(inputs=vgg19.input, outputs=prediction)"
   ]
  },
  {
   "cell_type": "code",
   "execution_count": 9,
   "metadata": {
    "colab": {
     "base_uri": "https://localhost:8080/"
    },
    "executionInfo": {
     "elapsed": 50,
     "status": "ok",
     "timestamp": 1676357730296,
     "user": {
      "displayName": "Machine Learning",
      "userId": "15025330983824979494"
     },
     "user_tz": -330
    },
    "id": "VyZt7CPuYRDz",
    "outputId": "6f893de7-812d-4ac8-ec96-19c59a78fadb"
   },
   "outputs": [
    {
     "name": "stdout",
     "output_type": "stream",
     "text": [
      "Model: \"model\"\n",
      "_________________________________________________________________\n",
      " Layer (type)                Output Shape              Param #   \n",
      "=================================================================\n",
      " input_1 (InputLayer)        [(None, 224, 224, 3)]     0         \n",
      "                                                                 \n",
      " block1_conv1 (Conv2D)       (None, 224, 224, 64)      1792      \n",
      "                                                                 \n",
      " block1_conv2 (Conv2D)       (None, 224, 224, 64)      36928     \n",
      "                                                                 \n",
      " block1_pool (MaxPooling2D)  (None, 112, 112, 64)      0         \n",
      "                                                                 \n",
      " block2_conv1 (Conv2D)       (None, 112, 112, 128)     73856     \n",
      "                                                                 \n",
      " block2_conv2 (Conv2D)       (None, 112, 112, 128)     147584    \n",
      "                                                                 \n",
      " block2_pool (MaxPooling2D)  (None, 56, 56, 128)       0         \n",
      "                                                                 \n",
      " block3_conv1 (Conv2D)       (None, 56, 56, 256)       295168    \n",
      "                                                                 \n",
      " block3_conv2 (Conv2D)       (None, 56, 56, 256)       590080    \n",
      "                                                                 \n",
      " block3_conv3 (Conv2D)       (None, 56, 56, 256)       590080    \n",
      "                                                                 \n",
      " block3_conv4 (Conv2D)       (None, 56, 56, 256)       590080    \n",
      "                                                                 \n",
      " block3_pool (MaxPooling2D)  (None, 28, 28, 256)       0         \n",
      "                                                                 \n",
      " block4_conv1 (Conv2D)       (None, 28, 28, 512)       1180160   \n",
      "                                                                 \n",
      " block4_conv2 (Conv2D)       (None, 28, 28, 512)       2359808   \n",
      "                                                                 \n",
      " block4_conv3 (Conv2D)       (None, 28, 28, 512)       2359808   \n",
      "                                                                 \n",
      " block4_conv4 (Conv2D)       (None, 28, 28, 512)       2359808   \n",
      "                                                                 \n",
      " block4_pool (MaxPooling2D)  (None, 14, 14, 512)       0         \n",
      "                                                                 \n",
      " block5_conv1 (Conv2D)       (None, 14, 14, 512)       2359808   \n",
      "                                                                 \n",
      " block5_conv2 (Conv2D)       (None, 14, 14, 512)       2359808   \n",
      "                                                                 \n",
      " block5_conv3 (Conv2D)       (None, 14, 14, 512)       2359808   \n",
      "                                                                 \n",
      " block5_conv4 (Conv2D)       (None, 14, 14, 512)       2359808   \n",
      "                                                                 \n",
      " block5_pool (MaxPooling2D)  (None, 7, 7, 512)         0         \n",
      "                                                                 \n",
      " flatten (Flatten)           (None, 25088)             0         \n",
      "                                                                 \n",
      " dense (Dense)               (None, 10)                250890    \n",
      "                                                                 \n",
      "=================================================================\n",
      "Total params: 20275274 (77.34 MB)\n",
      "Trainable params: 250890 (980.04 KB)\n",
      "Non-trainable params: 20024384 (76.39 MB)\n",
      "_________________________________________________________________\n"
     ]
    }
   ],
   "source": [
    "model.summary()"
   ]
  },
  {
   "cell_type": "code",
   "execution_count": 10,
   "metadata": {
    "id": "mCPF-xmXYRD0"
   },
   "outputs": [],
   "source": [
    "model.compile(loss=\"categorical_crossentropy\", metrics=[\"accuracy\"], optimizer=\"adam\")"
   ]
  },
  {
   "cell_type": "code",
   "execution_count": 11,
   "metadata": {
    "id": "cjVLulmkYRD0"
   },
   "outputs": [],
   "source": [
    "train_datagen = ImageDataGenerator(rescale=1./255)\n",
    "\n",
    "test_datagen = ImageDataGenerator(rescale=1./255)"
   ]
  },
  {
   "cell_type": "code",
   "execution_count": 12,
   "metadata": {
    "colab": {
     "base_uri": "https://localhost:8080/"
    },
    "executionInfo": {
     "elapsed": 13844,
     "status": "ok",
     "timestamp": 1676357751349,
     "user": {
      "displayName": "Machine Learning",
      "userId": "15025330983824979494"
     },
     "user_tz": -330
    },
    "id": "JA3X933bYRD1",
    "outputId": "b71fb282-6992-4260-cbfe-cc55f2d4551e"
   },
   "outputs": [
    {
     "name": "stdout",
     "output_type": "stream",
     "text": [
      "Found 26642 images belonging to 10 classes.\n"
     ]
    }
   ],
   "source": [
    "trainset = train_datagen.flow_from_directory( \"F:/SkinDisease/newdata/Dermnet/Train\",\n",
    "                                                 target_size=(224, 224),\n",
    "                                                 batch_size=32,\n",
    "                                                 class_mode=\"categorical\", shuffle=True)"
   ]
  },
  {
   "cell_type": "code",
   "execution_count": 13,
   "metadata": {
    "colab": {
     "base_uri": "https://localhost:8080/"
    },
    "executionInfo": {
     "elapsed": 5352,
     "status": "ok",
     "timestamp": 1676357756695,
     "user": {
      "displayName": "Machine Learning",
      "userId": "15025330983824979494"
     },
     "user_tz": -330
    },
    "id": "VIDJqWXlYRD1",
    "outputId": "6955d408-4346-4c1c-9b15-02af6d78a095"
   },
   "outputs": [
    {
     "name": "stdout",
     "output_type": "stream",
     "text": [
      "Found 2389 images belonging to 10 classes.\n"
     ]
    }
   ],
   "source": [
    "testset = test_datagen.flow_from_directory(\"F:/SkinDisease/newdata/Dermnet/Valid\",\n",
    "                                                 target_size=(224, 224),\n",
    "                                                 batch_size=32,\n",
    "                                                 class_mode=\"categorical\", shuffle=False)"
   ]
  },
  {
   "cell_type": "code",
   "execution_count": null,
   "metadata": {
    "colab": {
     "background_save": true,
     "base_uri": "https://localhost:8080/"
    },
    "id": "H8Aljx8KYRD2"
   },
   "outputs": [
    {
     "name": "stdout",
     "output_type": "stream",
     "text": [
      "Epoch 1/100\n",
      "833/833 [==============================] - 5946s 7s/step - loss: 1.5455 - accuracy: 0.4929 - val_loss: 1.9778 - val_accuracy: 0.3797\n",
      "Epoch 2/100\n",
      "833/833 [==============================] - 5606s 7s/step - loss: 1.1152 - accuracy: 0.6233 - val_loss: 1.5595 - val_accuracy: 0.4889\n",
      "Epoch 3/100\n",
      "833/833 [==============================] - 6180s 7s/step - loss: 0.9383 - accuracy: 0.6841 - val_loss: 1.3688 - val_accuracy: 0.5345\n",
      "Epoch 4/100\n",
      "833/833 [==============================] - 5749s 7s/step - loss: 0.8068 - accuracy: 0.7294 - val_loss: 1.7271 - val_accuracy: 0.5241\n",
      "Epoch 5/100\n",
      "833/833 [==============================] - 6189s 7s/step - loss: 0.7345 - accuracy: 0.7520 - val_loss: 1.5121 - val_accuracy: 0.5684\n",
      "Epoch 6/100\n",
      "833/833 [==============================] - 5954s 7s/step - loss: 0.6758 - accuracy: 0.7710 - val_loss: 1.2466 - val_accuracy: 0.6584\n",
      "Epoch 7/100\n",
      "833/833 [==============================] - 5318s 6s/step - loss: 0.6061 - accuracy: 0.8016 - val_loss: 1.2195 - val_accuracy: 0.6438\n",
      "Epoch 8/100\n",
      "833/833 [==============================] - 5303s 6s/step - loss: 0.5546 - accuracy: 0.8175 - val_loss: 1.2591 - val_accuracy: 0.6249\n",
      "Epoch 9/100\n",
      "833/833 [==============================] - 5691s 7s/step - loss: 0.5173 - accuracy: 0.8309 - val_loss: 1.2008 - val_accuracy: 0.6647\n",
      "Epoch 10/100\n",
      "833/833 [==============================] - 5973s 7s/step - loss: 0.4844 - accuracy: 0.8429 - val_loss: 1.3409 - val_accuracy: 0.6233\n",
      "Epoch 11/100\n",
      "833/833 [==============================] - 5698s 7s/step - loss: 0.4743 - accuracy: 0.8445 - val_loss: 1.2379 - val_accuracy: 0.6794\n",
      "Epoch 12/100\n",
      "833/833 [==============================] - 5287s 6s/step - loss: 0.4403 - accuracy: 0.8544 - val_loss: 1.2171 - val_accuracy: 0.6505\n",
      "Epoch 13/100\n",
      "833/833 [==============================] - 5268s 6s/step - loss: 0.4203 - accuracy: 0.8621 - val_loss: 1.1978 - val_accuracy: 0.6743\n",
      "Epoch 14/100\n",
      "833/833 [==============================] - 5242s 6s/step - loss: 0.3989 - accuracy: 0.8717 - val_loss: 1.3780 - val_accuracy: 0.6886\n",
      "Epoch 15/100\n",
      "833/833 [==============================] - 5241s 6s/step - loss: 0.3725 - accuracy: 0.8809 - val_loss: 1.3340 - val_accuracy: 0.6760\n",
      "Epoch 16/100\n",
      "833/833 [==============================] - 5480s 7s/step - loss: 0.3509 - accuracy: 0.8893 - val_loss: 1.2057 - val_accuracy: 0.7204\n",
      "Epoch 17/100\n",
      "833/833 [==============================] - 5175s 6s/step - loss: 0.3731 - accuracy: 0.8805 - val_loss: 1.3105 - val_accuracy: 0.7321\n",
      "Epoch 18/100\n",
      "833/833 [==============================] - 5157s 6s/step - loss: 0.3347 - accuracy: 0.8961 - val_loss: 1.2647 - val_accuracy: 0.7509\n",
      "Epoch 19/100\n",
      "833/833 [==============================] - 5176s 6s/step - loss: 0.3270 - accuracy: 0.8970 - val_loss: 1.5198 - val_accuracy: 0.7175\n",
      "Epoch 20/100\n",
      "833/833 [==============================] - 6047s 7s/step - loss: 0.3205 - accuracy: 0.9003 - val_loss: 1.0602 - val_accuracy: 0.7602\n",
      "Epoch 21/100\n",
      "833/833 [==============================] - 5964s 7s/step - loss: 0.3049 - accuracy: 0.9049 - val_loss: 1.3109 - val_accuracy: 0.7438\n",
      "Epoch 22/100\n",
      "833/833 [==============================] - 6004s 7s/step - loss: 0.2992 - accuracy: 0.9064 - val_loss: 1.4797 - val_accuracy: 0.7288\n",
      "Epoch 23/100\n",
      "833/833 [==============================] - 5958s 7s/step - loss: 0.2901 - accuracy: 0.9088 - val_loss: 1.1252 - val_accuracy: 0.7258\n",
      "Epoch 24/100\n",
      "833/833 [==============================] - 5659s 7s/step - loss: 0.2785 - accuracy: 0.9163 - val_loss: 1.1915 - val_accuracy: 0.7518\n",
      "Epoch 25/100\n",
      "457/833 [===============>..............] - ETA: 44:23 - loss: 0.2683 - accuracy: 0.9186"
     ]
    }
   ],
   "source": [
    "import tensorflow as tf\n",
    "callback = tf.keras.callbacks.EarlyStopping(monitor='val_loss', patience=15)\n",
    "\n",
    "x = model.fit(trainset,\n",
    "            validation_data=testset,\n",
    "            epochs=100,\n",
    "            steps_per_epoch=len(trainset),\n",
    "            validation_steps=len(testset),\n",
    "            callbacks=[callback]\n",
    "            )"
   ]
  },
  {
   "cell_type": "code",
   "execution_count": null,
   "metadata": {},
   "outputs": [],
   "source": [
    "from sklearn.metrics import classification_report, confusion_matrix, accuracy_score\n",
    "\n",
    "y_pred = model.predict(testset)\n",
    "y_pred = np.argmax(y_pred, axis=1)\n",
    "y_true = testset.classes"
   ]
  },
  {
   "cell_type": "code",
   "execution_count": null,
   "metadata": {},
   "outputs": [],
   "source": [
    "print(\"Confusion Matrix:\")\n",
    "print(confusion_matrix(y_true, y_pred))\n",
    "print(\"\\nClassification Report:\")\n",
    "print(classification_report(y_true, y_pred))\n",
    "print(\"\\nAccuracy:\", accuracy_score(y_true, y_pred))"
   ]
  },
  {
   "cell_type": "code",
   "execution_count": null,
   "metadata": {},
   "outputs": [],
   "source": [
    "model.save(\"vgg19_dermet_model_32.h5\")"
   ]
  },
  {
   "cell_type": "code",
   "execution_count": 18,
   "metadata": {},
   "outputs": [
    {
     "data": {
      "image/png": "[encoded data removed]",
      "text/plain": [
       "<Figure size 640x480 with 1 Axes>"
      ]
     },
     "metadata": {},
     "output_type": "display_data"
    },
    {
     "data": {
      "image/png": "[encoded data removed]",
      "text/plain": [
       "<Figure size 640x480 with 1 Axes>"
      ]
     },
     "metadata": {},
     "output_type": "display_data"
    },
    {
     "data": {
      "text/plain": [
       "<Figure size 640x480 with 0 Axes>"
      ]
     },
     "metadata": {},
     "output_type": "display_data"
    }
   ],
   "source": [
    "# plot the loss\n",
    "plt.plot(x.history['loss'], label='train loss')\n",
    "plt.plot(x.history['val_loss'], label='val loss')\n",
    "plt.legend()\n",
    "plt.show()\n",
    "plt.savefig('LossVal_loss')\n",
    "\n",
    "# plot the accuracy\n",
    "plt.plot(x.history['accuracy'], label='train acc')\n",
    "plt.plot(x.history['val_accuracy'], label='val acc')\n",
    "plt.legend()\n",
    "plt.show()\n",
    "plt.savefig('AccVal_acc')"
   ]
  },
  {
   "cell_type": "code",
   "execution_count": 19,
   "metadata": {},
   "outputs": [],
   "source": [
    "import tensorflow as tf"
   ]
  },
  {
   "cell_type": "code",
   "execution_count": 20,
   "metadata": {},
   "outputs": [],
   "source": [
    "model = tf.keras.models.load_model(\"vgg19_melanoma_model_32.h5\")"
   ]
  },
  {
   "cell_type": "code",
   "execution_count": 21,
   "metadata": {},
   "outputs": [
    {
     "name": "stdout",
     "output_type": "stream",
     "text": [
      "238/238 [==============================] - 1471s 6s/step\n",
      "Confusion Matrix:\n",
      "[[  30  128   21    0   56   12   14    0]\n",
      " [   8  680   26    0  139   85   51    8]\n",
      " [  17  232   80    0  318  100   38    3]\n",
      " [   0   43    0    1   11   12    5    0]\n",
      " [  10  137   28    0  994  161   26    1]\n",
      " [   6  565   85    0 1348 1792   49   18]\n",
      " [   4   81    5    0   42    9   46    2]\n",
      " [   0   17    3    0   14   21    2   19]]\n",
      "\n",
      "Classification Report:\n",
      "              precision    recall  f1-score   support\n",
      "\n",
      "           0       0.40      0.11      0.18       261\n",
      "           1       0.36      0.68      0.47       997\n",
      "           2       0.32      0.10      0.15       788\n",
      "           3       1.00      0.01      0.03        72\n",
      "           4       0.34      0.73      0.46      1357\n",
      "           5       0.82      0.46      0.59      3863\n",
      "           6       0.20      0.24      0.22       189\n",
      "           8       0.37      0.25      0.30        76\n",
      "\n",
      "    accuracy                           0.48      7603\n",
      "   macro avg       0.48      0.33      0.30      7603\n",
      "weighted avg       0.59      0.48      0.48      7603\n",
      "\n",
      "\n",
      "Accuracy: 0.4790214389056951\n"
     ]
    }
   ],
   "source": [
    "y_pred = model.predict(testset)\n",
    "y_pred = np.argmax(y_pred, axis=1)\n",
    "y_true = testset.classes\n",
    "\n",
    "print(\"Confusion Matrix:\")\n",
    "print(confusion_matrix(y_true, y_pred))\n",
    "print(\"\\nClassification Report:\")\n",
    "print(classification_report(y_true, y_pred))\n",
    "print(\"\\nAccuracy:\", accuracy_score(y_true, y_pred))"
   ]
  },
  {
   "cell_type": "code",
   "execution_count": null,
   "metadata": {},
   "outputs": [],
   "source": [
    "model.summary()"
   ]
  },
  {
   "cell_type": "code",
   "execution_count": null,
   "metadata": {},
   "outputs": [],
   "source": [
    "# import matplotlib.pyplot as plt"
   ]
  },
  {
   "cell_type": "code",
   "execution_count": null,
   "metadata": {},
   "outputs": [],
   "source": [
    "# # plot the loss\n",
    "# plt.plot(r.history['loss'], label='train loss')\n",
    "# plt.plot(r.history['val_loss'], label='val loss')\n",
    "# plt.legend()\n",
    "# plt.show()\n",
    "# plt.savefig('LossVal_loss')\n",
    "\n",
    "# # plot the accuracy\n",
    "# plt.plot(r.history['accuracy'], label='train acc')\n",
    "# plt.plot(r.history['val_accuracy'], label='val acc')\n",
    "# plt.legend()\n",
    "# plt.show()\n",
    "# plt.savefig('AccVal_acc')"
   ]
  },
  {
   "cell_type": "code",
   "execution_count": null,
   "metadata": {
    "id": "KXyxxO5iYRD2"
   },
   "outputs": [],
   "source": [
    "# y_pred = model.predict(testset)\n",
    "# y_pred = np.argmax(y_pred, axis=1)\n",
    "# y_pred"
   ]
  },
  {
   "cell_type": "code",
   "execution_count": null,
   "metadata": {
    "id": "g2QROmBqYRD2"
   },
   "outputs": [],
   "source": [
    "# model.save(\"vgg19_model.model\")"
   ]
  },
  {
   "cell_type": "code",
   "execution_count": null,
   "metadata": {
    "id": "riQ8OLZnYRD3"
   },
   "outputs": [],
   "source": [
    "# def prepare_image(filepath):\n",
    "#     img_array = cv2.imread(filepath, cv2.IMREAD_COLOR)\n",
    "#     img_array = img_array / 255\n",
    "#     new_array = cv2.resize(img_array, (128, 128))\n",
    "#     return new_array.reshape(-1, 128, 128, 3)\n",
    "\n",
    "# model = tf.keras.models.load_model(\"vgg19_model.model\")"
   ]
  },
  {
   "cell_type": "code",
   "execution_count": null,
   "metadata": {
    "id": "miRWBpmgYRD3"
   },
   "outputs": [],
   "source": [
    "# class_dict = trainset.class_indices\n",
    "# class_dict"
   ]
  },
  {
   "cell_type": "code",
   "execution_count": null,
   "metadata": {
    "id": "ctT9vtYLYRD3"
   },
   "outputs": [],
   "source": [
    "# def prediction_cls(prediction):\n",
    "#     for key, clss in class_dict.items():\n",
    "#         if np.argmax(prediction) == clss:\n",
    "#             label = key.split(\"___\")[1]\n",
    "#             label = label.replace('_',\" \")\n",
    "#             return label"
   ]
  },
  {
   "cell_type": "code",
   "execution_count": null,
   "metadata": {
    "id": "7qyNE52JYRD4",
    "scrolled": true
   },
   "outputs": [],
   "source": [
    "# prediction = model.predict([prepare_image(\"C:/Users/Rajat/Documents/Tomato/Tomato/Plant_Diseases_Dataset/Testing/0f7a2408-9c26-4ff9-bee5-2bfcd91a11f7___RS_Erly.B 9440.JPG\")])\n",
    "# prediction_cls(prediction)"
   ]
  },
  {
   "cell_type": "code",
   "execution_count": null,
   "metadata": {
    "scrolled": false
   },
   "outputs": [],
   "source": [
    "# # import required module\n",
    "# import glob\n",
    "# from matplotlib import pyplot as plt\n",
    "# from matplotlib import image as mpimg\n",
    "\n",
    "# # get the path/directory\n",
    "# folder_dir = \"C:/Users/Rajat/Desktop/Testing/\"\n",
    "# cnt = 0\n",
    "\n",
    "# # iterate over files in\n",
    "# # that directory\n",
    "# for images in glob.iglob(f'{folder_dir}/*'):\n",
    "#     cnt=cnt+1\n",
    "\n",
    "#     # check if the image ends with png\n",
    "# #     if (images.endswith(\".JPG\")):\n",
    "# #         print(images)\n",
    "\n",
    "#     prediction = model.predict([prepare_image(images)])\n",
    "#     x = prediction_cls(prediction)\n",
    "#     plt.title(x)\n",
    "# #     plt.xlabel(\"X pixel scaling\")\n",
    "# #     plt.ylabel(\"Y pixels scaling\")\n",
    " \n",
    "#     image = mpimg.imread(images)\n",
    "#     plt.imshow(image)\n",
    "#     plt.show()"
   ]
  },
  {
   "cell_type": "code",
   "execution_count": null,
   "metadata": {},
   "outputs": [],
   "source": [
    "# print(cnt)"
   ]
  },
  {
   "cell_type": "code",
   "execution_count": null,
   "metadata": {},
   "outputs": [],
   "source": [
    "# model.save(\"vgg19_model.model\")"
   ]
  },
  {
   "cell_type": "code",
   "execution_count": null,
   "metadata": {},
   "outputs": [],
   "source": [
    "# import tensorflow as tf"
   ]
  },
  {
   "cell_type": "code",
   "execution_count": null,
   "metadata": {
    "id": "3UIFwIZqYRD4"
   },
   "outputs": [],
   "source": [
    "# model_new = tf.keras.models.load_model(\"vgg19_model.h5\")"
   ]
  },
  {
   "cell_type": "code",
   "execution_count": null,
   "metadata": {},
   "outputs": [],
   "source": [
    "# model_new.summary()"
   ]
  },
  {
   "cell_type": "code",
   "execution_count": null,
   "metadata": {},
   "outputs": [],
   "source": []
  }
 ],
 "metadata": {
  "accelerator": "GPU",
  "colab": {
   "name": "",
   "version": ""
  },
  "gpuClass": "standard",
  "kernelspec": {
   "display_name": "Python 3 (ipykernel)",
   "language": "python",
   "name": "python3"
  },
  "language_info": {
   "codemirror_mode": {
    "name": "ipython",
    "version": 3
   },
   "file_extension": ".py",
   "mimetype": "text/x-python",
   "name": "python",
   "nbconvert_exporter": "python",
   "pygments_lexer": "ipython3",
   "version": "3.9.1"
  },
  "papermill": {
   "duration": 584.999151,
   "end_time": "2022-07-22T11:36:14.900215",
   "environment_variables": {},
   "exception": null,
   "input_path": "__notebook__.ipynb",
   "output_path": "__notebook__.ipynb",
   "parameters": {},
   "start_time": "2022-07-22T11:26:29.901064",
   "version": "2.1.0"
  },
  "vscode": {
   "interpreter": {
    "hash": "d9301f351715a867d1bc8fb08501c60e58ca81704bf7ff03478c999d7c5e9338"
   }
  }
 },
 "nbformat": 4,
 "nbformat_minor": 1
}
